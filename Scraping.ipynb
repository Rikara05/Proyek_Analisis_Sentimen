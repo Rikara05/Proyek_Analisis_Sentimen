{
  "nbformat": 4,
  "nbformat_minor": 0,
  "metadata": {
    "colab": {
      "provenance": []
    },
    "kernelspec": {
      "name": "python3",
      "display_name": "Python 3"
    },
    "language_info": {
      "name": "python"
    }
  },
  "cells": [
    {
      "cell_type": "markdown",
      "source": [
        "*Library*"
      ],
      "metadata": {
        "id": "PpCO-lN3cld3"
      }
    },
    {
      "cell_type": "code",
      "source": [
        "!pip install google-play-scraper"
      ],
      "metadata": {
        "colab": {
          "base_uri": "https://localhost:8080/"
        },
        "id": "ZP7ym8Fhd6pF",
        "outputId": "d307c347-2575-4d20-d9fd-1fb38175f4bf"
      },
      "execution_count": 77,
      "outputs": [
        {
          "output_type": "stream",
          "name": "stdout",
          "text": [
            "Requirement already satisfied: google-play-scraper in /usr/local/lib/python3.11/dist-packages (1.2.7)\n"
          ]
        }
      ]
    },
    {
      "cell_type": "code",
      "source": [
        "from google_play_scraper import reviews, Sort\n",
        "import pandas as pd\n",
        "import numpy as np"
      ],
      "metadata": {
        "id": "pkVMW5GQc5Dk"
      },
      "execution_count": 79,
      "outputs": []
    },
    {
      "cell_type": "markdown",
      "source": [
        "# Scraping Data Review dari Play Store"
      ],
      "metadata": {
        "id": "p2mOrPSHc7_J"
      }
    },
    {
      "cell_type": "code",
      "source": [
        "# Ambil data dari aplikasi Shopee\n",
        "result, _ = reviews(\n",
        "    'com.shopee.id',\n",
        "    lang='id',\n",
        "    country='id',\n",
        "    sort=Sort.NEWEST,\n",
        "    count=10000\n",
        ")\n",
        "\n",
        "df = pd.DataFrame(result)[['content', 'score']]\n",
        "df.rename(columns={'content': 'review', 'score': 'rating'}, inplace=True)"
      ],
      "metadata": {
        "id": "T3p8cclwdAdp"
      },
      "execution_count": 84,
      "outputs": []
    },
    {
      "cell_type": "code",
      "source": [
        "df.to_csv('shoppe_reviews.csv', index=False)"
      ],
      "metadata": {
        "id": "jCfcyFdcrhQV"
      },
      "execution_count": 86,
      "outputs": []
    }
  ]
}